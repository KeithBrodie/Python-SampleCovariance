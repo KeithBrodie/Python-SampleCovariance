{
 "cells": [
  {
   "cell_type": "markdown",
   "metadata": {},
   "source": [
    "# Sample  from a Covariance Matrix"
   ]
  },
  {
   "cell_type": "code",
   "execution_count": 1,
   "metadata": {},
   "outputs": [],
   "source": [
    "import numpy as np\n",
    "import scipy\n",
    "import scipy.linalg\n",
    "from pprint import pprint"
   ]
  },
  {
   "cell_type": "markdown",
   "metadata": {},
   "source": [
    "Create a Covariance Matrix"
   ]
  },
  {
   "cell_type": "code",
   "execution_count": 3,
   "metadata": {},
   "outputs": [
    {
     "name": "stdout",
     "output_type": "stream",
     "text": [
      "array([[ 8.22826353,  2.05848291, -1.07827421, -3.83039664,  2.44112171],\n",
      "       [ 2.05848291,  1.77055549, -2.05521103, -2.31331931, -1.23092972],\n",
      "       [-1.07827421, -2.05521103,  3.3726527 ,  2.45795968,  1.99007363],\n",
      "       [-3.83039664, -2.31331931,  2.45795968,  5.50205099,  0.28005927],\n",
      "       [ 2.44112171, -1.23092972,  1.99007363,  0.28005927,  4.548449  ]])\n"
     ]
    }
   ],
   "source": [
    "n=5\n",
    "rP=np.random.randn(n,n)\n",
    "P=rP @ rP.T\n",
    "pprint(P)"
   ]
  },
  {
   "cell_type": "markdown",
   "metadata": {},
   "source": [
    "Generate Samples from P"
   ]
  },
  {
   "cell_type": "code",
   "execution_count": 4,
   "metadata": {},
   "outputs": [
    {
     "name": "stdout",
     "output_type": "stream",
     "text": [
      "array([[ 2.86849499,  0.        ,  0.        ,  0.        ,  0.        ],\n",
      "       [ 0.71761775,  1.12052678,  0.        ,  0.        ,  0.        ],\n",
      "       [-0.37590242, -1.5934084 ,  0.83210561,  0.        ,  0.        ],\n",
      "       [-1.33533321, -1.20930666,  0.03495385,  1.5017629 ,  0.        ],\n",
      "       [ 0.85101132, -1.64353997, -0.37117829, -0.37164772,  0.92038565]])\n"
     ]
    }
   ],
   "source": [
    "L = scipy.linalg.cholesky(P).T\n",
    "pprint(L)"
   ]
  },
  {
   "cell_type": "code",
   "execution_count": 8,
   "metadata": {},
   "outputs": [
    {
     "data": {
      "text/plain": [
       "array([[ 0.51373924],\n",
       "       [-0.44962196],\n",
       "       [ 0.29379137],\n",
       "       [-0.8059236 ],\n",
       "       [ 1.74751287]])"
      ]
     },
     "execution_count": 8,
     "metadata": {},
     "output_type": "execute_result"
    }
   ],
   "source": [
    "L @ np.random.randn(n,1)"
   ]
  },
  {
   "cell_type": "markdown",
   "metadata": {},
   "source": [
    "Use L to generater samples from the covariance matrix "
   ]
  },
  {
   "cell_type": "code",
   "execution_count": 17,
   "metadata": {},
   "outputs": [
    {
     "name": "stdout",
     "output_type": "stream",
     "text": [
      "array([[ 8.12580456,  2.03599768, -1.06238379, -3.74642625,  2.40705734],\n",
      "       [ 2.03599768,  1.77356064, -2.05934345, -2.32808526, -1.24195627],\n",
      "       [-1.06238379, -2.05934345,  3.37123262,  2.50083293,  1.98576432],\n",
      "       [-3.74642625, -2.32808526,  2.50083293,  5.5900263 ,  0.32471642],\n",
      "       [ 2.40705734, -1.24195627,  1.98576432,  0.32471642,  4.56484602]])\n"
     ]
    }
   ],
   "source": [
    "ns=10000\n",
    "Ps = np.zeros((n,n))\n",
    "for i in range(ns):\n",
    "    x = L @ np.random.randn(n,1)  #  The sample vector\n",
    "    Ps = Ps + x @ x.T             #  The sample covariance accumulation\n",
    "    \n",
    "Ps = Ps / ns\n",
    "pprint (Ps)"
   ]
  },
  {
   "cell_type": "markdown",
   "metadata": {},
   "source": [
    "Compare Ps (from samples) with P (source) to verify sampling from source covariance"
   ]
  },
  {
   "cell_type": "code",
   "execution_count": 16,
   "metadata": {},
   "outputs": [
    {
     "name": "stdout",
     "output_type": "stream",
     "text": [
      "array([[ 8.22826353,  2.05848291, -1.07827421, -3.83039664,  2.44112171],\n",
      "       [ 2.05848291,  1.77055549, -2.05521103, -2.31331931, -1.23092972],\n",
      "       [-1.07827421, -2.05521103,  3.3726527 ,  2.45795968,  1.99007363],\n",
      "       [-3.83039664, -2.31331931,  2.45795968,  5.50205099,  0.28005927],\n",
      "       [ 2.44112171, -1.23092972,  1.99007363,  0.28005927,  4.548449  ]])\n"
     ]
    }
   ],
   "source": [
    "pprint(P)"
   ]
  },
  {
   "cell_type": "code",
   "execution_count": null,
   "metadata": {},
   "outputs": [],
   "source": []
  }
 ],
 "metadata": {
  "kernelspec": {
   "display_name": "Python 3",
   "language": "python",
   "name": "python3"
  },
  "language_info": {
   "codemirror_mode": {
    "name": "ipython",
    "version": 3
   },
   "file_extension": ".py",
   "mimetype": "text/x-python",
   "name": "python",
   "nbconvert_exporter": "python",
   "pygments_lexer": "ipython3",
   "version": "3.5.2"
  }
 },
 "nbformat": 4,
 "nbformat_minor": 2
}
